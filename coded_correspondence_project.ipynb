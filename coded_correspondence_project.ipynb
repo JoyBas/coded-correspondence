{
 "cells": [
  {
   "cell_type": "markdown",
   "metadata": {},
   "source": [
    "# Casual Coded Correspondence: The Project\n",
    "\n",
    "In this project, you will be working to code and decode various messages between you and your fictional cryptography enthusiast pen pal Vishal. You and Vishal have been exchanging letters for quite some time now and have started to provide a puzzle in each one of your letters.  Here is his most recent letter:\n",
    "\n",
    "     Hey there! How have you been? I've been great! I just learned about this really cool type of cipher called a  Caesar Cipher. Here's how it works: You take your message, something like \"hello\" and then you shift all of the letters by a certain offset. For example, if I chose an offset of 3 and a message of \"hello\", I would code my message by shifting each letter 3 places to the left (with respect to the alphabet). So \"h\" becomes \"e\", \"e\" becomes, \"b\", \"l\" becomes \"i\", and \"o\" becomes \"l\". Then I have my coded message,\"ebiil\"! Now I can send you my message and the offset and you can decode it. The best thing is that Julius Caesar himself used this cipher, that's why it's called the Caesar Cipher! Isn't that so cool! Okay, now I'm going to send you a longer coded message that you have to decode yourself!\n",
    "    \n",
    "        xuo jxuhu! jxyi yi qd unqcfbu ev q squiqh syfxuh. muhu oek qrbu je tusetu yj? y xefu ie! iudt cu q cuiiqwu rqsa myjx jxu iqcu evviuj!\n",
    "    \n",
    "    This message has an offset of 10. Can you decode it?\n",
    "    \n",
    "\n",
    "#### Step 1: Decode Vishal's Message\n",
    "In the cell below, use your Python skills to decode Vishal's message and print the result. Hint: you can account for shifts that go past the end of the alphabet using the modulus operator, but I'll let you figure out how!"
   ]
  },
  {
   "cell_type": "code",
   "execution_count": 1,
   "metadata": {},
   "outputs": [
    {
     "name": "stdout",
     "output_type": "stream",
     "text": [
      "hey there! this is an example of a caesar cipher. were you able to decode it? i hope so! send me a message back with the same offset!\n"
     ]
    }
   ],
   "source": [
    "# global variables\n",
    "alphabet = \"abcdefghijklmnopqrstuvwxyz\"\n",
    "#alphabet = [\"a\", \"b\", \"c\", \"d\", \"e\", \"f\", \"g\", \"h\", \"i\", \"j\", \"k\", \"l\", \"m\", \"n\", \"o\", \"p\", \"q\", \"r\", \"s\", \"t\", \"u\", \"v\", \"w\", \"x\", \"y\", \"z\"]\n",
    "punctuation = [\" \", \"!\", \".\", \"?\", \"'\"]\n",
    "\n",
    "vishal_first_message = \"xuo jxuhu! jxyi yi qd unqcfbu ev q squiqh syfxuh. muhu oek qrbu je tusetu yj? y xefu ie! iudt cu q cuiiqwu rqsa myjx jxu iqcu evviuj!\"\n",
    "vishal_first_message = vishal_first_message.lower()\n",
    "\n",
    "\n",
    "def decode_message(message, offset):\n",
    "    decoded = []\n",
    "    for letter in message: \n",
    "        if letter in alphabet:\n",
    "            letter_index = (alphabet.index(letter) + offset) % 26\n",
    "            decoded.append(alphabet[letter_index])\n",
    "        elif letter in punctuation:\n",
    "            decoded.append(letter)\n",
    "    return \"\".join(decoded)\n",
    "\n",
    "print(decode_message(vishal_first_message, 10))"
   ]
  },
  {
   "cell_type": "markdown",
   "metadata": {},
   "source": [
    "#### Step 2: Send Vishal a Coded Message\n",
    "Great job! Now send Vishal back a message using the same offset. Your message can be anything you want! Remember, coding happens in opposite direction of decoding."
   ]
  },
  {
   "cell_type": "code",
   "execution_count": 2,
   "metadata": {},
   "outputs": [
    {
     "name": "stdout",
     "output_type": "stream",
     "text": [
      "oqii cqd! secckdysqjydw jxyi mqo yi ydjuhuijydw. buj'i wuj ijqhjut!\n"
     ]
    }
   ],
   "source": [
    "my_message = \"yass man! communicating this way is interesting. let's get started!\"\n",
    "my_message = my_message.lower()\n",
    "\n",
    "\n",
    "def create_coded_message(message, offset):\n",
    "    encoded = []\n",
    "    for letter in message: \n",
    "        if letter in alphabet:\n",
    "            letter_index = (alphabet.index(letter) - offset) % 26\n",
    "            encoded.append(alphabet[letter_index])\n",
    "        elif letter in punctuation:\n",
    "            encoded.append(letter)\n",
    "    return \"\".join(encoded)\n",
    "\n",
    "print(create_coded_message(my_message, 10)) "
   ]
  },
  {
   "cell_type": "markdown",
   "metadata": {},
   "source": [
    "#### Step 3: Make functions for decoding and coding \n",
    "\n",
    "Vishal sent over another reply, this time with two coded messages!\n",
    "    \n",
    "    You're getting the hang of this! Okay here are two more messages, the first one is coded just like before with  an offset of ten, and it contains the hint for decoding the second message!\n",
    "    \n",
    "    First message:\n",
    "    \n",
    "        jxu evviuj veh jxu iusedt cuiiqwu yi vekhjuud.\n",
    "        \n",
    "    Second message:\n",
    "    \n",
    "        bqdradyuzs ygxfubxq omqemd oubtqde fa oapq kagd yqeemsqe ue qhqz yadq eqogdq!\n",
    "    \n",
    "Decode both of these messages. \n",
    "\n",
    "If you haven't already, define two functions `decoder(message, offset)` and `coder(message, offset)` that can be used to quickly decode and code messages given any offset."
   ]
  },
  {
   "cell_type": "code",
   "execution_count": 3,
   "metadata": {},
   "outputs": [
    {
     "name": "stdout",
     "output_type": "stream",
     "text": [
      "the offset for the second message is fourteen.\n"
     ]
    }
   ],
   "source": [
    "# decode vishal's reply(First message)\n",
    "vishal_message1 = \"jxu evviuj veh jxu iusedt cuiiqwu yi vekhjuud.\"\n",
    "vishal_message1 = vishal_message1.lower()\n",
    "\n",
    "# decoder function\n",
    "def decoder(message, offset):\n",
    "    decoded = []\n",
    "    for letter in message: \n",
    "        if letter in alphabet:\n",
    "            letter_index = (alphabet.index(letter) + offset) % 26\n",
    "            decoded.append(alphabet[letter_index])\n",
    "        elif letter in punctuation:\n",
    "            decoded.append(letter)\n",
    "    return \"\".join(decoded)\n",
    "\n",
    "# encoder function\n",
    "def encoder(message, offset):\n",
    "    encoded = []\n",
    "    for letter in vishal_message2: \n",
    "        if letter in alphabet:\n",
    "            letter_index = (alphabet.index(letter) - offset) % 26\n",
    "            encoded.append(alphabet[letter_index])\n",
    "        elif letter in punctuation:\n",
    "            encoded.append(letter)\n",
    "    return \"\".join(encoded)\n",
    "\n",
    "print(decoder(vishal_message1, 10))"
   ]
  },
  {
   "cell_type": "code",
   "execution_count": 4,
   "metadata": {},
   "outputs": [
    {
     "name": "stdout",
     "output_type": "stream",
     "text": [
      "performing multiple caesar ciphers to code your messages is even more secure!\n"
     ]
    }
   ],
   "source": [
    "# decode vishal's reply(Second message)\n",
    "vishal_message2 = \"bqdradyuzs ygxfubxq omqemd oubtqde fa oapq kagd yqeemsqe ue qhqz yadq eqogdq!\"\n",
    "vishal_message2 = vishal_message2.lower()\n",
    "\n",
    "print(decoder(vishal_message2, 14))"
   ]
  },
  {
   "cell_type": "markdown",
   "metadata": {},
   "source": [
    "#### Step 4: Solving a Caesar Cipher without knowing the shift value\n",
    "\n",
    "Awesome work! While you were working to decode his last two messages, Vishal sent over another letter! He's really been bitten by the crytpo-bug. Read it and see what interesting task he has lined up for you this time.\n",
    "\n",
    "            Hello again friend! I knew you would love the Caesar Cipher, it's a cool simple way to encrypt messages. Did you know that back in Caesar's time, it was considered a very secure way of communication and it took a lot of effort to crack if you were unaware of the value of the shift? That's all changed with computers! Now we can brute force these kinds of ciphers very quickly, as I'm sure you can imagine.\n",
    "            \n",
    "            To test your cryptography skills, this next coded message is going to be harder than the last couple to crack. It's still going to be coded with a Caesar Cipher but this time I'm not going to tell you the value of   the shift. You'll have to brute force it yourself.\n",
    "            \n",
    "            Here's the coded message:\n",
    "            \n",
    "            vhfinmxkl atox kxgwxkxw tee hy maxlx hew vbiaxkl tl hulhexmx. px'ee atox mh kxteer lmxi ni hnk ztfx by px ptgm mh dxxi hnk fxlltzxl ltyx.\n",
    "            \n",
    "            Good luck!\n",
    "            \n",
    "Decode Vishal's most recent message and see what it says!"
   ]
  },
  {
   "cell_type": "code",
   "execution_count": 5,
   "metadata": {},
   "outputs": [
    {
     "name": "stdout",
     "output_type": "stream",
     "text": [
      "computers have rendered all of these old ciphers obsolete. we'll have to really step up our game if we want to keep our messages safe.\n"
     ]
    }
   ],
   "source": [
    "vishal_new_message = \"vhfinmxkl atox kxgwxkxw tee hy maxlx hew vbiaxkl hulhexmx. px'ee atox mh kxteer lmxi ni hnk ztfx by px ptgm mh dxxi hnk fxlltzxl ltyx.\"\n",
    "vishal_new_message = vishal_new_message.lower()\n",
    "\n",
    "# Brute force by looping through: for i in range(1, 26) to find which offset is in English\n",
    "#for i in range(1, 26):\n",
    "    #print(\"Offset: \" + str(i))\n",
    "    #print(\"\\t\" + decoder(vishal_new_message, i) + \"\\n\")\n",
    "      \n",
    "# The offset of the message is 7\n",
    "print(decoder(vishal_new_message, 7))"
   ]
  },
  {
   "cell_type": "markdown",
   "metadata": {},
   "source": [
    "#### Step 5: The Vigenère Cipher\n",
    "\n",
    "Great work! While you were working on the brute force cracking of the cipher, Vishal sent over another letter. That guy is a letter machine!\n",
    "\n",
    "            Salutations! As you can see, technology has made brute forcing simple ciphers like the Caesar Cipher extremely easy, and us crypto-enthusiasts have had to get more creative and use more complicated ciphers. This next cipher I'm going to teach you is the Vigenère Cipher, invented by an Italian cryptologist named Giovan Battista Bellaso (cool name eh?) in the 16th century, but named after another cryptologist from the 16th century, Blaise de Vigenère.\n",
    "            \n",
    "           The Vigenère Cipher is a polyalphabetic substitution cipher, as opposed to the Caesar Cipher which was a monoalphabetic substitution cipher. What this means is that opposed to having a single shift that is applied to every letter, the Vigenère Cipher has a different shift for each individual letter. The value of the shift for each letter is determined by a given keyword.\n",
    "           \n",
    "           Consider the message\n",
    "           \n",
    "               barryisthespy\n",
    "\n",
    "           If we want to code this message, first we choose a keyword. For this example, we'll use the keyword\n",
    "           \n",
    "               dog\n",
    "               \n",
    "           Now we use the repeat the keyword over and over to generate a _keyword phrase_ that is the same length as the message we want to code. So if we want to code the message \"barryisthespy\" our _keyword phrase_ is \"dogdogdogdogd\". Now we are ready to start coding our message. We shift the each letter of our message by the place value of the corresponding letter in the keyword phrase, assuming that \"a\" has a place value of 0, \"b\" has a place value of 1, and so forth. Remember, we zero-index because this is Python we're talking about!\n",
    "\n",
    "                        message:       b  a  r  r  y  i  s  t  h  e  s  p  y\n",
    "                \n",
    "                 keyword phrase:       d  o  g  d  o  g  d  o  g  d  o  g  d\n",
    "                 \n",
    "          resulting place value:       4  14 15 12 16 24 11 21 25 22 22 17 5\n",
    "      \n",
    "            So we shift \"b\", which has an index of 1, by the index of \"d\", which is 3. This gives us an place value of 4, which is \"e\". Then continue the trend: we shift \"a\" by the place value of \"o\", 14, and get \"o\" again, we shift \"r\" by the place value of \"g\", 15, and get \"x\", shift the next \"r\" by 12 places and \"u\", and so forth. Once we complete all the shifts we end up with our coded message:\n",
    "            \n",
    "                eoxumovhnhgvb\n",
    "                \n",
    "            As you can imagine, this is a lot harder to crack without knowing the keyword! So now comes the hard part. I'll give you a message and the keyword, and you'll see if you can figure out how to crack it! Ready? Okay here's my message:\n",
    "            \n",
    "                dfc jhjj ifyh yf hrfgiv xulk? vmph bfzo! qtl eeh gvkszlfl yyvww kpi hpuvzx dl tzcgrywrxll!\n",
    "                \n",
    "            and the keyword to decode my message is \n",
    "            \n",
    "                friends\n",
    "                \n",
    "            Because that's what we are! Good luck friend!\n",
    "           \n",
    "And there it is. Vishal has given you quite the assignment this time! Try to decode his message. It may be helpful to create a function that takes two parameters, the coded message and the keyword and then work towards a solution from there."
   ]
  },
  {
   "cell_type": "code",
   "execution_count": 6,
   "metadata": {},
   "outputs": [
    {
     "name": "stdout",
     "output_type": "stream",
     "text": [
      "you were able to decode this? nice work! you are becoming quite the expert at crytography!\n"
     ]
    }
   ],
   "source": [
    "\n",
    "message_v = \"dfc aruw fsti gr vjtwhr wznj? vmph otis! cbx swv jipreneo uhllj kpi rahjib eg fjdkwkedhmp!\"\n",
    "message_v = message_v.lower()\n",
    "keyword = \"friends\"\n",
    "\n",
    "\n",
    "def decode_vigenere_message(message, keyword):\n",
    "    index = 0\n",
    "    keyword_phrase = []\n",
    "    message_index = []\n",
    "    phrase_index = []\n",
    "   \n",
    "    # generate keyword_phrase with keyword(friends) for the length of (message_v) putting into acount spaces and !\n",
    "    for letter in message:\n",
    "        if letter in alphabet:\n",
    "            keyword_index = index % len(keyword)\n",
    "            keyword_phrase.append(keyword[keyword_index])\n",
    "            index += 1\n",
    "        elif letter in punctuation:\n",
    "            keyword_phrase.append(letter)\n",
    "    #print(keyword_phrase)\n",
    "    \n",
    "    # get indexes of message_v and keyword_phrase  \n",
    "    for i, j in zip(message, keyword_phrase):\n",
    "        if i in alphabet and j in alphabet:\n",
    "            msg_idx = alphabet.index(i)\n",
    "            phr_idx = alphabet.index(j)\n",
    "            message_index.append(msg_idx)\n",
    "            phrase_index.append(phr_idx)\n",
    "        elif i in punctuation:\n",
    "            message_index.append(i)\n",
    "            phrase_index.append(i)\n",
    "    #print(message_index)\n",
    "    #print(phrase_index)\n",
    "    \n",
    "    \n",
    "    # decode message by returning the alphabet at index\n",
    "    zip_object = zip(message_index, phrase_index)\n",
    "    diff = []\n",
    "    for elem1, elem2 in zip_object:\n",
    "        if type(elem1) is int:\n",
    "            lst = (elem1 - elem2) % 26\n",
    "            diff.append(alphabet[lst])\n",
    "        elif elem1 in punctuation:\n",
    "            diff.append(elem1)\n",
    "    return \"\".join(diff)\n",
    "    return(message_index, phrase_index)    \n",
    "    return \"\".join(keyword_phrase)\n",
    "      \n",
    "print(decode_vigenere_message(message_v, keyword))\n"
   ]
  },
  {
   "cell_type": "markdown",
   "metadata": {
    "collapsed": true
   },
   "source": [
    "#### Step 6: Send a message with the  Vigenère Cipher\n",
    "Great work decoding the message. For your final task, write a function that can encode a message using a given keyword and write out a message to send to Vishal!"
   ]
  },
  {
   "cell_type": "code",
   "execution_count": 7,
   "metadata": {},
   "outputs": [
    {
     "name": "stdout",
     "output_type": "stream",
     "text": [
      "fhtrws ysd sasiigk ye lsyemlunz rqw trp i kimlec xidi ut!\n",
      "thanks for showing me something new and i really like it!\n"
     ]
    }
   ],
   "source": [
    "\n",
    "message_for_v = \"thanks for showing me something new and I really like it!\"\n",
    "message_for_v = message_for_v.lower()\n",
    "keyword = \"mate\"\n",
    "\n",
    "def encode_vigenere_message(message, keyword):\n",
    "    index = 0\n",
    "    keyword_phrase = []\n",
    "    message_index = []\n",
    "    phrase_index = []\n",
    "    \n",
    "    # generate keyword_phrase with keyword(friends) for the length of (message_v) putting into acount spaces and !\n",
    "    for letter in message:\n",
    "        if letter in alphabet:\n",
    "            keyword_index = index % len(keyword)\n",
    "            keyword_phrase.append(keyword[keyword_index])\n",
    "            index += 1\n",
    "        elif letter in punctuation:\n",
    "            keyword_phrase.append(letter)\n",
    "    #print(keyword_phrase)\n",
    "    \n",
    "    # get indexes of message_v and keyword_phrase       \n",
    "    for i, j in zip(message, keyword_phrase):\n",
    "        if i in alphabet and j in alphabet:\n",
    "            msg_idx = alphabet.index(i)\n",
    "            phr_idx = alphabet.index(j)\n",
    "            message_index.append(msg_idx)\n",
    "            phrase_index.append(phr_idx)\n",
    "        elif i in punctuation:\n",
    "            message_index.append(i)\n",
    "            phrase_index.append(i)\n",
    "    \n",
    "    # decode message by returning the alphabet at index\n",
    "    zip_object = zip(message_index, phrase_index)\n",
    "    diff = []\n",
    "    for elem1, elem2 in zip_object:\n",
    "        if type(elem1) is int:\n",
    "            lst = (elem1 + elem2) % 26\n",
    "            diff.append(alphabet[lst])\n",
    "        elif elem1 in punctuation:\n",
    "            diff.append(elem1)\n",
    "    return \"\".join(diff)\n",
    "    return(message_index, phrase_index)    \n",
    "    return \"\".join(keyword_phrase)\n",
    "  \n",
    "        \n",
    "print(encode_vigenere_message(message_for_v, keyword))\n",
    "\n",
    "print(decode_vigenere_message(encode_vigenere_message(message_for_v, keyword), keyword))\n"
   ]
  },
  {
   "cell_type": "markdown",
   "metadata": {},
   "source": [
    "#### Conclusion\n",
    "Over the course of this project you've learned about two different cipher methods and have used your Python skills to code and decode messages. There are all types of other facinating ciphers out there to explore, and Python is the perfect language to implement them with, so go exploring! "
   ]
  }
 ],
 "metadata": {
  "kernelspec": {
   "display_name": "Python 3",
   "language": "python",
   "name": "python3"
  },
  "language_info": {
   "codemirror_mode": {
    "name": "ipython",
    "version": 3
   },
   "file_extension": ".py",
   "mimetype": "text/x-python",
   "name": "python",
   "nbconvert_exporter": "python",
   "pygments_lexer": "ipython3",
   "version": "3.8.3"
  }
 },
 "nbformat": 4,
 "nbformat_minor": 2
}
